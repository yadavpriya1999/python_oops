{
 "cells": [
  {
   "cell_type": "markdown",
   "id": "223f658b",
   "metadata": {},
   "source": [
    "Problem 1: Bank Account Create a class representing a bank account with attributes like account number, account holder name, and balance. Implement methods to deposit and withdraw money from the account."
   ]
  },
  {
   "cell_type": "code",
   "execution_count": 34,
   "id": "0cc8f56d",
   "metadata": {},
   "outputs": [],
   "source": [
    "class bank_account:\n",
    "    \n",
    "    def __init__(self,acc_number,name,balance):\n",
    "        self.acc_number=acc_number\n",
    "        self.name=name\n",
    "        self.balance=balance\n",
    "    \n",
    "    def deposit(self,amnt):\n",
    "        if amnt>0:\n",
    "            self.balance+=amnt\n",
    "            print(\"Balance after Deposit:\",self.balance)\n",
    "        else:\n",
    "            print(\"Invalid Amount\")\n",
    "        \n",
    "    def withdraw(self,amnt):\n",
    "        if self.balance>0 and self.balance>=amnt:\n",
    "            self.balance-=amnt\n",
    "            print(\"Balance after withdraw:\",self.balance)\n",
    "        else:\n",
    "            print(\"You dont have enough balance \")\n",
    "    \n",
    "    \n",
    "        \n",
    "    "
   ]
  },
  {
   "cell_type": "code",
   "execution_count": 35,
   "id": "a8f442e8",
   "metadata": {},
   "outputs": [],
   "source": [
    "navin=bank_account(2345,\"Navin\",5000)"
   ]
  },
  {
   "cell_type": "code",
   "execution_count": 36,
   "id": "cb5a8bd2",
   "metadata": {},
   "outputs": [
    {
     "name": "stdout",
     "output_type": "stream",
     "text": [
      "Balance after Deposit: 5400\n"
     ]
    }
   ],
   "source": [
    "navin.deposit(400)"
   ]
  },
  {
   "cell_type": "code",
   "execution_count": 37,
   "id": "b4dc568d",
   "metadata": {},
   "outputs": [
    {
     "name": "stdout",
     "output_type": "stream",
     "text": [
      "Balance after withdraw: 4400\n"
     ]
    }
   ],
   "source": [
    "navin.withdraw(1000)"
   ]
  },
  {
   "cell_type": "code",
   "execution_count": 38,
   "id": "1af87401",
   "metadata": {},
   "outputs": [],
   "source": [
    "priya=bank_account(345,\"Priya\",0)"
   ]
  },
  {
   "cell_type": "code",
   "execution_count": 39,
   "id": "2d6dc360",
   "metadata": {},
   "outputs": [
    {
     "name": "stdout",
     "output_type": "stream",
     "text": [
      "Balance after Deposit: 100\n"
     ]
    }
   ],
   "source": [
    "priya.deposit(100)"
   ]
  },
  {
   "cell_type": "code",
   "execution_count": 40,
   "id": "d290fe70",
   "metadata": {},
   "outputs": [
    {
     "name": "stdout",
     "output_type": "stream",
     "text": [
      "You dont have enough balance \n"
     ]
    }
   ],
   "source": [
    "priya.withdraw(500)"
   ]
  },
  {
   "cell_type": "markdown",
   "id": "c0e8d050",
   "metadata": {},
   "source": [
    "#Problem 2: Employee Management Create a class representing an employee with attributes like employee ID, name, and salary. Implement methods to calculate the yearly bonus and display employee details."
   ]
  },
  {
   "cell_type": "code",
   "execution_count": 77,
   "id": "9a0fea6d",
   "metadata": {},
   "outputs": [],
   "source": [
    "class employee:\n",
    "    \n",
    "    def __init__(self,emp_id,name,salary):\n",
    "        self.emp_id=emp_id\n",
    "        self.name=name\n",
    "        self.salary=salary\n",
    "    \n",
    "    def yearly_bonus(self,bonus_percent):\n",
    "        if bonus_percent>0:\n",
    "            bonus_amnt=int((bonus_percent/100)*self.salary)\n",
    "            return bonus_amnt\n",
    "        else:\n",
    "            return 0\n",
    "        \n",
    "        \n",
    "    def display_details(self):\n",
    "        print(f'Employee name is :{self.name} ,salary: {self.salary} and Employee Id :{self.emp_id}')"
   ]
  },
  {
   "cell_type": "code",
   "execution_count": 78,
   "id": "d145645f",
   "metadata": {},
   "outputs": [],
   "source": [
    "emp1=employee(12,\"priya\",120000)"
   ]
  },
  {
   "cell_type": "code",
   "execution_count": 79,
   "id": "a45c40d6",
   "metadata": {},
   "outputs": [
    {
     "name": "stdout",
     "output_type": "stream",
     "text": [
      "Employee name is :priya ,salary: 120000 and Employee Id :12\n"
     ]
    }
   ],
   "source": [
    "emp1.display_details()"
   ]
  },
  {
   "cell_type": "code",
   "execution_count": 80,
   "id": "abcff6cb",
   "metadata": {},
   "outputs": [
    {
     "data": {
      "text/plain": [
       "36000"
      ]
     },
     "execution_count": 80,
     "metadata": {},
     "output_type": "execute_result"
    }
   ],
   "source": [
    "emp1.yearly_bonus(30)"
   ]
  },
  {
   "cell_type": "markdown",
   "id": "6ae83a49",
   "metadata": {},
   "source": [
    "Problem 3: Vehicle Rental Create a class representing a vehicle rental system. Implement methods to rent a vehicle, return a vehicle, and display available vehicles."
   ]
  },
  {
   "cell_type": "code",
   "execution_count": 149,
   "id": "191ba888",
   "metadata": {},
   "outputs": [],
   "source": [
    "class vehicle_rental_system:\n",
    "    \n",
    "    def __init__(self):\n",
    "        self.available_vehicle={}\n",
    "        \n",
    "    def add_vehicle(self,vehicle_id,vehicle_name):\n",
    "        if vehicle_id  not in self.available_vehicle:\n",
    "            self.available_vehicle[vehicle_id]=vehicle_name\n",
    "            print(\"added\",self.available_vehicle)\n",
    "        else:\n",
    "            print(\"Empty\")\n",
    "        \n",
    "        \n",
    "    def rent_vehicle(self,vehicle_id):\n",
    "        if vehicle_id in self.available_vehicle:\n",
    "            rented_vehicle=self.available_vehicle.pop(vehicle_id)\n",
    "            print(\"Rented Vehicle:\",rented_vehicle)\n",
    "        else:\n",
    "            print(\"Not availble this vehicle\")\n",
    "    \n",
    "    def return_vehicle(self,vehicle_id,vehicle_name):\n",
    "        if vehicle_id not in self.available_vehicle:\n",
    "            self.available_vehicle[vehicle_id]=vehicle_name\n",
    "            print(\"Returned Vehicle: \",vehicle_name)\n",
    "        else:\n",
    "            print(\"Already Available\")\n",
    "    \n",
    "    def display_vehical(self):\n",
    "        print(f'Vehical number :{self.vehical_num}')\n",
    "        print(f'Vehical Name :{self.name}')\n",
    "        print(f'Vehical rent prize :{self.rent_prize}')\n",
    "        "
   ]
  },
  {
   "cell_type": "code",
   "execution_count": 150,
   "id": "84bfe2ce",
   "metadata": {},
   "outputs": [],
   "source": [
    "bike1=vehicle_rental_system()"
   ]
  },
  {
   "cell_type": "code",
   "execution_count": 151,
   "id": "378e5e25",
   "metadata": {},
   "outputs": [
    {
     "name": "stdout",
     "output_type": "stream",
     "text": [
      "added {11: 'Bike'}\n"
     ]
    }
   ],
   "source": [
    "bike1.add_vehicle(11,\"Bike\")"
   ]
  },
  {
   "cell_type": "code",
   "execution_count": 152,
   "id": "89658bc1",
   "metadata": {},
   "outputs": [
    {
     "name": "stdout",
     "output_type": "stream",
     "text": [
      "added {11: 'Bike', 12: 'scooty'}\n"
     ]
    }
   ],
   "source": [
    "bike1.add_vehicle(12,\"scooty\")"
   ]
  },
  {
   "cell_type": "code",
   "execution_count": 153,
   "id": "4e86d18a",
   "metadata": {},
   "outputs": [
    {
     "name": "stdout",
     "output_type": "stream",
     "text": [
      "added {11: 'Bike', 12: 'scooty', 13: 'bicycle'}\n"
     ]
    }
   ],
   "source": [
    "bike1.add_vehicle(13,\"bicycle\")"
   ]
  },
  {
   "cell_type": "code",
   "execution_count": 154,
   "id": "8b3c2a91",
   "metadata": {},
   "outputs": [
    {
     "name": "stdout",
     "output_type": "stream",
     "text": [
      "Rented Vehicle: scooty\n"
     ]
    }
   ],
   "source": [
    "bike1.rent_vehicle(12)"
   ]
  },
  {
   "cell_type": "code",
   "execution_count": 155,
   "id": "7223ec5e",
   "metadata": {},
   "outputs": [
    {
     "name": "stdout",
     "output_type": "stream",
     "text": [
      "Returned Vehicle:  scooty\n"
     ]
    }
   ],
   "source": [
    "bike1.return_vehicle(12,\"scooty\")"
   ]
  },
  {
   "cell_type": "code",
   "execution_count": 157,
   "id": "bf6cde78",
   "metadata": {},
   "outputs": [
    {
     "name": "stdout",
     "output_type": "stream",
     "text": [
      "Already Available\n"
     ]
    }
   ],
   "source": [
    "bike1.return_vehicle(11,\"Bike\")"
   ]
  },
  {
   "cell_type": "markdown",
   "id": "248dfd71",
   "metadata": {},
   "source": [
    "Problem 4: Library Catalog Create classes representing a library and a book. Implement methods to add books to the library, borrow books, and display available books."
   ]
  },
  {
   "cell_type": "code",
   "execution_count": 83,
   "id": "2000ef62",
   "metadata": {},
   "outputs": [],
   "source": [
    "class library:\n",
    "    \n",
    "    def __init__(self):\n",
    "        self.available_book={}\n",
    "    def add_book(self,book_id,book_name):\n",
    "        pass\n",
    "    def borrow_book(self,book_id):\n",
    "        pass\n",
    "        \n",
    "class book(library):\n",
    "    \n",
    "    def add_book(self,book_id,book_name):\n",
    "        if book_id not in self.available_book:\n",
    "            self.available_book[book_id]=book_name\n",
    "            print(\"Added book:\",self.available_book)\n",
    "        else:\n",
    "            print(\"Already exist\")\n",
    "        \n",
    "    def borrow_book(self,book_id):\n",
    "        if book_id in self.available_book:\n",
    "            borrowed_book=self.available_book.pop(book_id)\n",
    "            print(\"Borrowed Book:\",borrowed_book)\n",
    "        else:\n",
    "            print(\"Not available\")\n",
    "\n",
    "    def display_available(self):\n",
    "        return self.available_book"
   ]
  },
  {
   "cell_type": "code",
   "execution_count": 89,
   "id": "5df1dad6",
   "metadata": {},
   "outputs": [],
   "source": [
    "c1=book()"
   ]
  },
  {
   "cell_type": "code",
   "execution_count": 90,
   "id": "17dea837",
   "metadata": {},
   "outputs": [
    {
     "name": "stdout",
     "output_type": "stream",
     "text": [
      "Added book: {12: 'Java'}\n"
     ]
    }
   ],
   "source": [
    "c1.add_book(12,\"Java\")"
   ]
  },
  {
   "cell_type": "code",
   "execution_count": 91,
   "id": "1434c6d5",
   "metadata": {},
   "outputs": [
    {
     "name": "stdout",
     "output_type": "stream",
     "text": [
      "Added book: {12: 'Java', 13: 'PHP'}\n"
     ]
    }
   ],
   "source": [
    "c1.add_book(13,\"PHP\")"
   ]
  },
  {
   "cell_type": "code",
   "execution_count": 92,
   "id": "1985f00f",
   "metadata": {},
   "outputs": [
    {
     "name": "stdout",
     "output_type": "stream",
     "text": [
      "Added book: {12: 'Java', 13: 'PHP', 14: 'Python'}\n"
     ]
    }
   ],
   "source": [
    "c1.add_book(14,\"Python\")"
   ]
  },
  {
   "cell_type": "code",
   "execution_count": 93,
   "id": "e1bdf3f5",
   "metadata": {},
   "outputs": [
    {
     "name": "stdout",
     "output_type": "stream",
     "text": [
      "Added book: {12: 'Java', 13: 'PHP', 14: 'Python', 15: 'DSA'}\n"
     ]
    }
   ],
   "source": [
    "c1.add_book(15,\"DSA\")"
   ]
  },
  {
   "cell_type": "code",
   "execution_count": 94,
   "id": "0b725f95",
   "metadata": {},
   "outputs": [
    {
     "name": "stdout",
     "output_type": "stream",
     "text": [
      "Borrowed Book: PHP\n"
     ]
    }
   ],
   "source": [
    "c1.borrow_book(13)"
   ]
  },
  {
   "cell_type": "code",
   "execution_count": 95,
   "id": "43863d3a",
   "metadata": {},
   "outputs": [
    {
     "data": {
      "text/plain": [
       "{12: 'Java', 14: 'Python', 15: 'DSA'}"
      ]
     },
     "execution_count": 95,
     "metadata": {},
     "output_type": "execute_result"
    }
   ],
   "source": [
    "c1.display_available()"
   ]
  },
  {
   "cell_type": "markdown",
   "id": "38e6bced",
   "metadata": {},
   "source": [
    "Problem 5: Product Inventory Create classes representing a product and an inventory system. Implement methods to add products to the inventory, update product quantity, and display available products."
   ]
  },
  {
   "cell_type": "code",
   "execution_count": 64,
   "id": "4e4731b9",
   "metadata": {},
   "outputs": [],
   "source": [
    "class inventory_system:\n",
    "    \n",
    "    def __init__(self):\n",
    "        self.available_product={}\n",
    "    def add_product(self,product_id,product_name):\n",
    "        pass\n",
    "    def update_product(self,product_id,product_name):\n",
    "        pass\n",
    "    def display_product(self):\n",
    "        pass\n",
    "    \n",
    "class product(inventory_system):\n",
    "    \n",
    "    def add_product(self,product_id,product_name):\n",
    "        if product_id not in self.available_product:\n",
    "            self.available_product[product_id]=product_name\n",
    "            print(\"Added:\",self.available_product)\n",
    "        else:\n",
    "            print(\"Already\")\n",
    "    \n",
    "    def update_product(self,product_id,product_name):\n",
    "        if product_id in self.available_product:\n",
    "            self.available_product[product_id]=product_name\n",
    "            print(\"Updated\")\n",
    "        else:\n",
    "            print(\"Error\")\n",
    "    \n",
    "    def display_product(self):\n",
    "        print(f'Product Id :{self.available_product}')"
   ]
  },
  {
   "cell_type": "code",
   "execution_count": 65,
   "id": "e6c63fdb",
   "metadata": {},
   "outputs": [],
   "source": [
    "p1=inventory_system()"
   ]
  },
  {
   "cell_type": "code",
   "execution_count": 74,
   "id": "b0b07699",
   "metadata": {},
   "outputs": [],
   "source": [
    "p1=product()"
   ]
  },
  {
   "cell_type": "code",
   "execution_count": 75,
   "id": "575e90ac",
   "metadata": {},
   "outputs": [
    {
     "name": "stdout",
     "output_type": "stream",
     "text": [
      "Added: {111: 'Phone'}\n"
     ]
    }
   ],
   "source": [
    "p1.add_product(111,\"Phone\")"
   ]
  },
  {
   "cell_type": "code",
   "execution_count": 76,
   "id": "a3fc2a98",
   "metadata": {},
   "outputs": [
    {
     "name": "stdout",
     "output_type": "stream",
     "text": [
      "Added: {111: 'Phone', 112: 'PC'}\n"
     ]
    }
   ],
   "source": [
    " p1.add_product(112,\"PC\")"
   ]
  },
  {
   "cell_type": "code",
   "execution_count": 77,
   "id": "586def63",
   "metadata": {},
   "outputs": [
    {
     "name": "stdout",
     "output_type": "stream",
     "text": [
      "Added: {111: 'Phone', 112: 'PC', 113: 'Laptop'}\n"
     ]
    }
   ],
   "source": [
    "p1.add_product(113,\"Laptop\")"
   ]
  },
  {
   "cell_type": "code",
   "execution_count": 78,
   "id": "e3cace58",
   "metadata": {},
   "outputs": [
    {
     "name": "stdout",
     "output_type": "stream",
     "text": [
      "Added: {111: 'Phone', 112: 'PC', 113: 'Laptop', 114: 'Laptop'}\n"
     ]
    }
   ],
   "source": [
    "p1.add_product(114,\"Laptop\")"
   ]
  },
  {
   "cell_type": "code",
   "execution_count": 79,
   "id": "acecd08f",
   "metadata": {},
   "outputs": [
    {
     "name": "stdout",
     "output_type": "stream",
     "text": [
      "Added: {111: 'Phone', 112: 'PC', 113: 'Laptop', 114: 'Laptop', 115: 'Pizzzza'}\n"
     ]
    }
   ],
   "source": [
    "p1.add_product(115,\"Pizzzza\")"
   ]
  },
  {
   "cell_type": "code",
   "execution_count": 80,
   "id": "32cda8e9",
   "metadata": {},
   "outputs": [
    {
     "name": "stdout",
     "output_type": "stream",
     "text": [
      "Added: {111: 'Phone', 112: 'PC', 113: 'Laptop', 114: 'Laptop', 115: 'Pizzzza', 116: 'Burger'}\n"
     ]
    }
   ],
   "source": [
    "p1.add_product(116,\"Burger\")"
   ]
  },
  {
   "cell_type": "code",
   "execution_count": 81,
   "id": "ef5f2bd8",
   "metadata": {},
   "outputs": [
    {
     "name": "stdout",
     "output_type": "stream",
     "text": [
      "Updated\n"
     ]
    }
   ],
   "source": [
    "p1.update_product(116,\"Achaar\")"
   ]
  },
  {
   "cell_type": "code",
   "execution_count": 82,
   "id": "3515cd89",
   "metadata": {},
   "outputs": [
    {
     "name": "stdout",
     "output_type": "stream",
     "text": [
      "Product Id :{111: 'Phone', 112: 'PC', 113: 'Laptop', 114: 'Laptop', 115: 'Pizzzza', 116: 'Achaar'}\n"
     ]
    }
   ],
   "source": [
    "p1.display_product()"
   ]
  },
  {
   "cell_type": "markdown",
   "id": "bf1844a0",
   "metadata": {},
   "source": [
    "Problem 6: Shape Calculation Create a class representing a shape with attributes like length, width, and height. Implement methods to calculate the area and perimeter of the shape."
   ]
  },
  {
   "cell_type": "code",
   "execution_count": 128,
   "id": "54fa93c9",
   "metadata": {},
   "outputs": [],
   "source": [
    "class shape:\n",
    "    def __init__(self,length,width,height):\n",
    "        self.length=length\n",
    "        self.width=width\n",
    "        self.height=height\n",
    "        \n",
    "    def calculate_area(self):\n",
    "        pass\n",
    "        \n",
    "    def calculate_perimeter(self):\n",
    "        pass\n",
    "\n",
    "class rectangle(shape):\n",
    "    def calculate_area(self):\n",
    "        return self.length*self.width\n",
    "    def calculate_perimeter(self):\n",
    "        return 2*(self.length+self.width)\n",
    "\n",
    "import math\n",
    "class circle(shape):\n",
    "    def calculate_area(self):\n",
    "        return math.pi*(self.width/2)**2\n",
    "    def calculate_perimeter(self):\n",
    "        return 2*math.pi*(self.width/2)\n",
    "    \n",
    "        "
   ]
  },
  {
   "cell_type": "code",
   "execution_count": 129,
   "id": "9d655536",
   "metadata": {},
   "outputs": [],
   "source": [
    "r=rectangle(12,3,5)"
   ]
  },
  {
   "cell_type": "code",
   "execution_count": 130,
   "id": "bad1e513",
   "metadata": {},
   "outputs": [
    {
     "data": {
      "text/plain": [
       "36"
      ]
     },
     "execution_count": 130,
     "metadata": {},
     "output_type": "execute_result"
    }
   ],
   "source": [
    "r.calculate_area()"
   ]
  },
  {
   "cell_type": "code",
   "execution_count": 131,
   "id": "2192f391",
   "metadata": {},
   "outputs": [
    {
     "data": {
      "text/plain": [
       "30"
      ]
     },
     "execution_count": 131,
     "metadata": {},
     "output_type": "execute_result"
    }
   ],
   "source": [
    "r.calculate_perimeter()"
   ]
  },
  {
   "cell_type": "code",
   "execution_count": 132,
   "id": "a701a981",
   "metadata": {},
   "outputs": [],
   "source": [
    "c=circle(3,4,5)"
   ]
  },
  {
   "cell_type": "code",
   "execution_count": 133,
   "id": "83aae7fd",
   "metadata": {},
   "outputs": [
    {
     "data": {
      "text/plain": [
       "12.566370614359172"
      ]
     },
     "execution_count": 133,
     "metadata": {},
     "output_type": "execute_result"
    }
   ],
   "source": [
    "c.calculate_area()"
   ]
  },
  {
   "cell_type": "code",
   "execution_count": 134,
   "id": "0c6ee0d2",
   "metadata": {},
   "outputs": [
    {
     "data": {
      "text/plain": [
       "12.566370614359172"
      ]
     },
     "execution_count": 134,
     "metadata": {},
     "output_type": "execute_result"
    }
   ],
   "source": [
    "c.calculate_perimeter()"
   ]
  },
  {
   "cell_type": "markdown",
   "id": "07868d32",
   "metadata": {},
   "source": [
    "Problem 7: Student Management Create a class representing a student with attributes like student ID, name, and grades. Implement methods to calculate the average grade and display student details."
   ]
  },
  {
   "cell_type": "code",
   "execution_count": 16,
   "id": "23d6f519",
   "metadata": {},
   "outputs": [],
   "source": [
    "class student:\n",
    "    \n",
    "    def __init__(self,student_id,name):\n",
    "        self.student_id=student_id\n",
    "        self.name=name\n",
    "        self.grades=[]\n",
    "    \n",
    "    def add_grades(self,grade):\n",
    "        self.grades.append(grade)\n",
    "        print(\"Successfully Added\")\n",
    "        \n",
    "    def calculate_avg_grade(self):\n",
    "        if len(self.grades)==0:\n",
    "            return 0\n",
    "        else:\n",
    "            return sum(self.grades)/len(self.grades)\n",
    "    def display_student_details(self):\n",
    "        print(\"Student Id:\",self.student_id)\n",
    "        print(\"Student Name:\",self.name)\n",
    "        "
   ]
  },
  {
   "cell_type": "code",
   "execution_count": 17,
   "id": "b86cffca",
   "metadata": {},
   "outputs": [],
   "source": [
    "s1=student(1,\"Priya\")"
   ]
  },
  {
   "cell_type": "code",
   "execution_count": 18,
   "id": "4ddd4cab",
   "metadata": {},
   "outputs": [
    {
     "name": "stdout",
     "output_type": "stream",
     "text": [
      "Successfully Added\n"
     ]
    }
   ],
   "source": [
    "s1.add_grades(23)"
   ]
  },
  {
   "cell_type": "code",
   "execution_count": 19,
   "id": "2666cba5",
   "metadata": {},
   "outputs": [
    {
     "name": "stdout",
     "output_type": "stream",
     "text": [
      "Successfully Added\n"
     ]
    }
   ],
   "source": [
    "s1.add_grades(34)"
   ]
  },
  {
   "cell_type": "code",
   "execution_count": 20,
   "id": "5a1e4597",
   "metadata": {},
   "outputs": [
    {
     "name": "stdout",
     "output_type": "stream",
     "text": [
      "Successfully Added\n"
     ]
    }
   ],
   "source": [
    "s1.add_grades(56)"
   ]
  },
  {
   "cell_type": "code",
   "execution_count": 21,
   "id": "70c4de3c",
   "metadata": {},
   "outputs": [
    {
     "name": "stdout",
     "output_type": "stream",
     "text": [
      "Successfully Added\n"
     ]
    }
   ],
   "source": [
    "s1.add_grades(25)"
   ]
  },
  {
   "cell_type": "code",
   "execution_count": 14,
   "id": "f3d86e6b",
   "metadata": {},
   "outputs": [
    {
     "data": {
      "text/plain": [
       "34.5"
      ]
     },
     "execution_count": 14,
     "metadata": {},
     "output_type": "execute_result"
    }
   ],
   "source": [
    "s1.calculate_avg_grade()"
   ]
  },
  {
   "cell_type": "code",
   "execution_count": 22,
   "id": "674a25c4",
   "metadata": {},
   "outputs": [
    {
     "name": "stdout",
     "output_type": "stream",
     "text": [
      "Student Id: 1\n",
      "Student Name: Priya\n"
     ]
    }
   ],
   "source": [
    "s1.display_student_details()"
   ]
  },
  {
   "cell_type": "markdown",
   "id": "ebc3a4a7",
   "metadata": {},
   "source": [
    "Problem 8: Email Management Create a class representing an email with attributes like sender, recipient, and subject. Implement methods to send an email and display email details."
   ]
  },
  {
   "cell_type": "code",
   "execution_count": 23,
   "id": "60a0ceb9",
   "metadata": {},
   "outputs": [],
   "source": [
    "class email:\n",
    "    \n",
    "    def __init__(self,sender,recipient,subject,message):\n",
    "        self.sender=sender\n",
    "        self.recipient=recipient\n",
    "        self.subject=subject\n",
    "        self.message=message\n",
    "        self.sent=False\n",
    "        \n",
    "    def send(self):\n",
    "        if not self.sent:\n",
    "            print(\"Email is sending...............\")\n",
    "            self.sent=True\n",
    "            print(\"Email is succcessfully sent.\")\n",
    "        else:\n",
    "            print(\"Email is already sent\")\n",
    "        \n",
    "        \n",
    "    def display_details(self):\n",
    "        print(\"Sender:\",self.sender)\n",
    "        print(\"Recipient:\",self.recipient)\n",
    "        print(\"Subject:\",self.subject)\n",
    "        print(\"Message :\",self.message)\n",
    "        "
   ]
  },
  {
   "cell_type": "code",
   "execution_count": 24,
   "id": "c08e4a44",
   "metadata": {},
   "outputs": [],
   "source": [
    "s1=email(\"p@gmail.com\",\"r@gmail.com\",\"Assignment\",\"this is the oops assignmnet............\")"
   ]
  },
  {
   "cell_type": "code",
   "execution_count": 27,
   "id": "8687afeb",
   "metadata": {},
   "outputs": [
    {
     "name": "stdout",
     "output_type": "stream",
     "text": [
      "Email is already sent\n"
     ]
    }
   ],
   "source": [
    "s1.send()"
   ]
  },
  {
   "cell_type": "code",
   "execution_count": 29,
   "id": "960f2324",
   "metadata": {},
   "outputs": [
    {
     "name": "stdout",
     "output_type": "stream",
     "text": [
      "Sender: p@gmail.com\n",
      "Recipient: r@gmail.com\n",
      "Subject: Assignment\n",
      "Message : this is the oops assignmnet............\n"
     ]
    }
   ],
   "source": [
    "s1.display_details()"
   ]
  },
  {
   "cell_type": "markdown",
   "id": "e1eb96d0",
   "metadata": {},
   "source": [
    "Problem 9: Social Media Profile Create a class representing a social media profile with attributes like username and posts. Implement methods to add posts, display posts, and search for posts by keyword."
   ]
  },
  {
   "cell_type": "code",
   "execution_count": 10,
   "id": "482141a5",
   "metadata": {},
   "outputs": [],
   "source": [
    "class profile:\n",
    "    \n",
    "    def __init__(self,username):\n",
    "        self.username=username\n",
    "        self.post=[]\n",
    "        \n",
    "    def add_post(self,post_content):\n",
    "        self.post.append(post_content)\n",
    "        print(\"Added new post\")\n",
    "        \n",
    "    def display_post(self):\n",
    "        if not self.post:\n",
    "            print(f'{self.username} not posted yet')\n",
    "        else:\n",
    "            print(f'Posted by {self.username}......')\n",
    "            for i,post in enumerate(self.post,start=1):\n",
    "                print(f'{i}.{post}')\n",
    "                \n",
    "    def search_by_keyword(self,keyword):\n",
    "        matching_post=[post for post in self.post if keyword.lower() in post.lower()]\n",
    "        if not matching_post:\n",
    "            print(\"No post containing this keyword\")\n",
    "        else:\n",
    "            print(f'Posted by {self.username}......')\n",
    "            for i,post in enumerate(matching_post,start=1):\n",
    "                print(f'{i}.{post}')\n",
    "            \n",
    "            \n",
    "            "
   ]
  },
  {
   "cell_type": "code",
   "execution_count": 11,
   "id": "ae710e22",
   "metadata": {},
   "outputs": [],
   "source": [
    "user1=profile(\"priya\")"
   ]
  },
  {
   "cell_type": "code",
   "execution_count": 12,
   "id": "54ea143f",
   "metadata": {},
   "outputs": [
    {
     "name": "stdout",
     "output_type": "stream",
     "text": [
      "Added new post\n"
     ]
    }
   ],
   "source": [
    "user1.add_post(\"Helllooo this is my first post..........\")"
   ]
  },
  {
   "cell_type": "code",
   "execution_count": 13,
   "id": "ae21ecd0",
   "metadata": {},
   "outputs": [
    {
     "name": "stdout",
     "output_type": "stream",
     "text": [
      "Posted by priya......\n",
      "1.Helllooo this is my first post..........\n"
     ]
    }
   ],
   "source": [
    "user1.display_post()"
   ]
  },
  {
   "cell_type": "code",
   "execution_count": 14,
   "id": "101e7a48",
   "metadata": {},
   "outputs": [
    {
     "name": "stdout",
     "output_type": "stream",
     "text": [
      "Added new post\n"
     ]
    }
   ],
   "source": [
    "user1.add_post(\"Helllooo this is my second post..........\")"
   ]
  },
  {
   "cell_type": "code",
   "execution_count": 15,
   "id": "9c5ca5c2",
   "metadata": {},
   "outputs": [
    {
     "name": "stdout",
     "output_type": "stream",
     "text": [
      "Posted by priya......\n",
      "1.Helllooo this is my first post..........\n",
      "2.Helllooo this is my second post..........\n"
     ]
    }
   ],
   "source": [
    "user1.display_post()"
   ]
  },
  {
   "cell_type": "code",
   "execution_count": 16,
   "id": "3f904795",
   "metadata": {},
   "outputs": [
    {
     "name": "stdout",
     "output_type": "stream",
     "text": [
      "Posted by priya......\n",
      "1.Helllooo this is my first post..........\n"
     ]
    }
   ],
   "source": [
    "user1.search_by_keyword(\"first\")"
   ]
  },
  {
   "cell_type": "code",
   "execution_count": 17,
   "id": "2762c77c",
   "metadata": {},
   "outputs": [
    {
     "name": "stdout",
     "output_type": "stream",
     "text": [
      "Posted by priya......\n",
      "1.Helllooo this is my first post..........\n",
      "2.Helllooo this is my second post..........\n"
     ]
    }
   ],
   "source": [
    "user1.search_by_keyword(\"\")"
   ]
  },
  {
   "cell_type": "code",
   "execution_count": 18,
   "id": "c0a1641a",
   "metadata": {},
   "outputs": [
    {
     "name": "stdout",
     "output_type": "stream",
     "text": [
      "No post containing this keyword\n"
     ]
    }
   ],
   "source": [
    "user1.search_by_keyword(\"No\")"
   ]
  },
  {
   "cell_type": "markdown",
   "id": "e8af8d0b",
   "metadata": {},
   "source": [
    "Problem 10: ToDo List Create a class representing a ToDo list with attributes like tasks and due dates. Implement methods to add tasks, mark tasks as completed, and display pending tasks."
   ]
  },
  {
   "cell_type": "code",
   "execution_count": 54,
   "id": "03a6ce74",
   "metadata": {},
   "outputs": [],
   "source": [
    "class ToDoList:\n",
    "    \n",
    "    def __init__(self):\n",
    "        self.tasks=[]\n",
    "        \n",
    "    def add_task(self,task,due_date):\n",
    "        self.tasks.append({\"task\":task,\"due_date\":due_date,\"complited\":False})\n",
    "            \n",
    "    def completed_task(self,task_index):\n",
    "        if 0<=task_index>len(self.tasks):\n",
    "            self.tasks[task_index][\"Completed\"]=True\n",
    "        else:\n",
    "            print(\"Invalid Task Index\")\n",
    "            \n",
    "    def display_pending_tast(self):\n",
    "        pending_task=[task for task in self.tasks if not task[\"complited\"]]\n",
    "        if not pending_task:\n",
    "            print(\"No pending task\")\n",
    "        else:\n",
    "            print(\"Pending task..............\")\n",
    "            for i,task in enumerate (pending_task,start=1):\n",
    "                print(f'{i}.tasks')\n",
    "    \n",
    "    \n",
    "\n",
    "    "
   ]
  },
  {
   "cell_type": "code",
   "execution_count": 55,
   "id": "c95f93cb",
   "metadata": {},
   "outputs": [],
   "source": [
    "t1=ToDoList()"
   ]
  },
  {
   "cell_type": "code",
   "execution_count": 58,
   "id": "2dd85bae",
   "metadata": {},
   "outputs": [],
   "source": [
    "t1.add_task(\"This is my first task\",12-10-23)"
   ]
  },
  {
   "cell_type": "code",
   "execution_count": 59,
   "id": "3eafda60",
   "metadata": {},
   "outputs": [],
   "source": [
    "t1.add_task(\"This is my second task\",15-10-23)"
   ]
  },
  {
   "cell_type": "code",
   "execution_count": 60,
   "id": "f1e21371",
   "metadata": {},
   "outputs": [],
   "source": [
    "t1.add_task(\"This is my first task\",16-10-23)"
   ]
  },
  {
   "cell_type": "code",
   "execution_count": 61,
   "id": "3d8f5bbe",
   "metadata": {},
   "outputs": [
    {
     "name": "stdout",
     "output_type": "stream",
     "text": [
      "Invalid Task Index\n"
     ]
    }
   ],
   "source": [
    "t1.completed_task()"
   ]
  },
  {
   "cell_type": "code",
   "execution_count": 62,
   "id": "47f41a2d",
   "metadata": {},
   "outputs": [
    {
     "name": "stdout",
     "output_type": "stream",
     "text": [
      "Invalid Task Index\n"
     ]
    }
   ],
   "source": [
    "t1.completed_task(1)"
   ]
  },
  {
   "cell_type": "code",
   "execution_count": 63,
   "id": "96c87253",
   "metadata": {},
   "outputs": [
    {
     "name": "stdout",
     "output_type": "stream",
     "text": [
      "Pending task..............\n",
      "1.tasks\n",
      "2.tasks\n",
      "3.tasks\n",
      "4.tasks\n",
      "5.tasks\n"
     ]
    }
   ],
   "source": [
    "t1.display_pending_tast()"
   ]
  },
  {
   "cell_type": "code",
   "execution_count": null,
   "id": "7909caa5",
   "metadata": {},
   "outputs": [],
   "source": []
  }
 ],
 "metadata": {
  "kernelspec": {
   "display_name": "Python 3 (ipykernel)",
   "language": "python",
   "name": "python3"
  },
  "language_info": {
   "codemirror_mode": {
    "name": "ipython",
    "version": 3
   },
   "file_extension": ".py",
   "mimetype": "text/x-python",
   "name": "python",
   "nbconvert_exporter": "python",
   "pygments_lexer": "ipython3",
   "version": "3.10.9"
  }
 },
 "nbformat": 4,
 "nbformat_minor": 5
}
